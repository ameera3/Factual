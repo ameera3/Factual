{
 "cells": [
  {
   "cell_type": "code",
   "execution_count": 2,
   "metadata": {
    "collapsed": true
   },
   "outputs": [],
   "source": [
    "# importing libraries\n",
    "import pandas as pd\n",
    "pd.set_option('display.max_rows', 500)\n",
    "pd.set_option('display.max_columns', 500)\n",
    "pd.set_option('display.width', 1000)\n",
    "import numpy as np\n",
    "import os\n",
    "import matplotlib.pyplot as plt\n",
    "%matplotlib inline "
   ]
  },
  {
   "cell_type": "code",
   "execution_count": 3,
   "metadata": {
    "collapsed": false
   },
   "outputs": [],
   "source": [
    "# reading the csv file into a pandas dataframe\n",
    "df = pd.read_csv('/home/seasnake/Desktop/JPL/GDS/sols_898_2450_ground_truth.csv')"
   ]
  },
  {
   "cell_type": "code",
   "execution_count": 4,
   "metadata": {
    "collapsed": false
   },
   "outputs": [
    {
     "name": "stdout",
     "output_type": "stream",
     "text": [
      "(6704, 49)\n"
     ]
    },
    {
     "data": {
      "text/html": [
       "<div>\n",
       "<table border=\"1\" class=\"dataframe\">\n",
       "  <thead>\n",
       "    <tr style=\"text-align: right;\">\n",
       "      <th></th>\n",
       "      <th>DylanLabel</th>\n",
       "      <th>GDS__id</th>\n",
       "      <th>GDS_dataActual</th>\n",
       "      <th>GDS_dataPredict</th>\n",
       "      <th>MAROS_lander_return_value</th>\n",
       "      <th>MAROS_max_elevation</th>\n",
       "      <th>MAROS_orbiter_return_value</th>\n",
       "      <th>MAROS_rise_elevation</th>\n",
       "      <th>TDS_insync_tf_0_frames</th>\n",
       "      <th>TDS_insync_tf_32_frames</th>\n",
       "      <th>TDS_outasync_tf_frames</th>\n",
       "      <th>TDS_insync_megabits</th>\n",
       "      <th>rover_to_orbiter_delta</th>\n",
       "      <th>orbiter_to_TDS_delta</th>\n",
       "      <th>TDS_to_GDS_delta</th>\n",
       "      <th>actual_to_predict_delta</th>\n",
       "      <th>TDS_GDS_start_timedelta</th>\n",
       "      <th>TDS_GDS_end_timedelta</th>\n",
       "      <th>actual_to_predict_begin_timedelta</th>\n",
       "      <th>actual_to_predict_end_timedelta</th>\n",
       "      <th>orbiter_MEX</th>\n",
       "      <th>orbiter_nan</th>\n",
       "      <th>orbiter_MVN</th>\n",
       "      <th>orbiter_DTE</th>\n",
       "      <th>orbiter_TGO</th>\n",
       "      <th>orbiter_ODY</th>\n",
       "      <th>orbiter_MRO</th>\n",
       "      <th>TDS_dssId_64</th>\n",
       "      <th>TDS_dssId_15</th>\n",
       "      <th>TDS_dssId_45</th>\n",
       "      <th>TDS_dssId_14</th>\n",
       "      <th>TDS_dssId_43</th>\n",
       "      <th>TDS_dssId_36</th>\n",
       "      <th>TDS_dssId_63</th>\n",
       "      <th>TDS_dssId_24</th>\n",
       "      <th>TDS_dssId_34</th>\n",
       "      <th>TDS_dssId_0</th>\n",
       "      <th>TDS_dssId_26</th>\n",
       "      <th>TDS_dssId_65</th>\n",
       "      <th>TDS_dssId_54</th>\n",
       "      <th>TDS_dssId_25</th>\n",
       "      <th>TDS_dssId_35</th>\n",
       "      <th>TDS_dssId_55</th>\n",
       "      <th>TDS_dssId_50</th>\n",
       "      <th>MiguelLabel</th>\n",
       "      <th>Unnamed: 0_y</th>\n",
       "      <th>GDSLabel</th>\n",
       "      <th>BinaryGDSLabel</th>\n",
       "      <th>GroundTruth</th>\n",
       "    </tr>\n",
       "  </thead>\n",
       "  <tbody>\n",
       "    <tr>\n",
       "      <th>0</th>\n",
       "      <td>0</td>\n",
       "      <td>ODY_MSL_2015_045_02-0</td>\n",
       "      <td>67.88</td>\n",
       "      <td>75.073</td>\n",
       "      <td>71.358336</td>\n",
       "      <td>46.461017</td>\n",
       "      <td>71.363808</td>\n",
       "      <td>2.790000e-10</td>\n",
       "      <td>0</td>\n",
       "      <td>7964</td>\n",
       "      <td>6</td>\n",
       "      <td>71.35744</td>\n",
       "      <td>0.005472</td>\n",
       "      <td>0.006368</td>\n",
       "      <td>3.47744</td>\n",
       "      <td>7.193</td>\n",
       "      <td>293.39</td>\n",
       "      <td>0.0</td>\n",
       "      <td>149.64</td>\n",
       "      <td>306.568</td>\n",
       "      <td>0</td>\n",
       "      <td>0</td>\n",
       "      <td>0</td>\n",
       "      <td>0</td>\n",
       "      <td>0</td>\n",
       "      <td>1</td>\n",
       "      <td>0</td>\n",
       "      <td>0</td>\n",
       "      <td>0</td>\n",
       "      <td>0</td>\n",
       "      <td>0</td>\n",
       "      <td>0</td>\n",
       "      <td>0</td>\n",
       "      <td>0</td>\n",
       "      <td>0</td>\n",
       "      <td>0</td>\n",
       "      <td>0</td>\n",
       "      <td>0</td>\n",
       "      <td>1</td>\n",
       "      <td>0</td>\n",
       "      <td>0</td>\n",
       "      <td>0</td>\n",
       "      <td>0</td>\n",
       "      <td>0</td>\n",
       "      <td>0</td>\n",
       "      <td>3</td>\n",
       "      <td>Incomplete</td>\n",
       "      <td>0</td>\n",
       "      <td>0</td>\n",
       "    </tr>\n",
       "  </tbody>\n",
       "</table>\n",
       "</div>"
      ],
      "text/plain": [
       "   DylanLabel                GDS__id  GDS_dataActual  GDS_dataPredict  MAROS_lander_return_value  MAROS_max_elevation  MAROS_orbiter_return_value  MAROS_rise_elevation  TDS_insync_tf_0_frames  TDS_insync_tf_32_frames  TDS_outasync_tf_frames  TDS_insync_megabits  rover_to_orbiter_delta  orbiter_to_TDS_delta  TDS_to_GDS_delta  actual_to_predict_delta  TDS_GDS_start_timedelta  TDS_GDS_end_timedelta  actual_to_predict_begin_timedelta  actual_to_predict_end_timedelta  orbiter_MEX  orbiter_nan  orbiter_MVN  orbiter_DTE  orbiter_TGO  orbiter_ODY  orbiter_MRO  TDS_dssId_64  TDS_dssId_15  TDS_dssId_45  TDS_dssId_14  TDS_dssId_43  TDS_dssId_36  TDS_dssId_63  TDS_dssId_24  TDS_dssId_34  TDS_dssId_0  TDS_dssId_26  TDS_dssId_65  TDS_dssId_54  TDS_dssId_25  TDS_dssId_35  TDS_dssId_55  TDS_dssId_50  MiguelLabel  Unnamed: 0_y    GDSLabel  BinaryGDSLabel  GroundTruth\n",
       "0           0  ODY_MSL_2015_045_02-0           67.88           75.073                  71.358336            46.461017                   71.363808          2.790000e-10                       0                     7964                       6             71.35744                0.005472              0.006368           3.47744                    7.193                   293.39                    0.0                             149.64                          306.568            0            0            0            0            0            1            0             0             0             0             0             0             0             0             0             0            0             0             1             0             0             0             0             0            0             3  Incomplete               0            0"
      ]
     },
     "execution_count": 4,
     "metadata": {},
     "output_type": "execute_result"
    }
   ],
   "source": [
    "# printing the shape and first row of the dataframe\n",
    "print df.shape\n",
    "df.head(n=1)"
   ]
  },
  {
   "cell_type": "code",
   "execution_count": 19,
   "metadata": {
    "collapsed": false
   },
   "outputs": [
    {
     "data": {
      "text/plain": [
       "1    5824\n",
       "0     880\n",
       "Name: GroundTruth, dtype: int64"
      ]
     },
     "execution_count": 19,
     "metadata": {},
     "output_type": "execute_result"
    }
   ],
   "source": [
    "df['GroundTruth'].value_counts()"
   ]
  },
  {
   "cell_type": "code",
   "execution_count": 5,
   "metadata": {
    "collapsed": true
   },
   "outputs": [],
   "source": [
    "# Returns a numpy array representation of the dataframe\n",
    "df_arr = df.values"
   ]
  },
  {
   "cell_type": "code",
   "execution_count": 7,
   "metadata": {
    "collapsed": false
   },
   "outputs": [
    {
     "name": "stdout",
     "output_type": "stream",
     "text": [
      "(6704, 42)\n"
     ]
    }
   ],
   "source": [
    "# Feature array\n",
    "X = df_arr[:,2:44]\n",
    "print X.shape"
   ]
  },
  {
   "cell_type": "code",
   "execution_count": 9,
   "metadata": {
    "collapsed": false
   },
   "outputs": [
    {
     "name": "stdout",
     "output_type": "stream",
     "text": [
      "[67.88 75.07300000000002 71.358336 46.46101687 71.36380799999998 2.79e-10 0\n",
      " 7964 6 71.35744 0.005472 0.006368 3.47744 7.193 293.39 0.0 149.64 306.568\n",
      " 0 0 0 0 0 1 0 0 0 0 0 0 0 0 0 0 0 0 1 0 0 0 0 0]\n"
     ]
    }
   ],
   "source": [
    "# print first row of feature array\n",
    "print X[0,:]"
   ]
  },
  {
   "cell_type": "code",
   "execution_count": 23,
   "metadata": {
    "collapsed": false
   },
   "outputs": [],
   "source": [
    "# Target Ground Truth\n",
    "Y = df_arr[:,-1].astype(int)"
   ]
  },
  {
   "cell_type": "code",
   "execution_count": 24,
   "metadata": {
    "collapsed": false
   },
   "outputs": [],
   "source": [
    "# Build a forest with Extra Trees Classifier and argsort the feature importances\n",
    "from sklearn.ensemble import ExtraTreesClassifier\n",
    "forest = ExtraTreesClassifier(n_estimators=250,\n",
    "                              random_state=0)\n",
    "\n",
    "forest.fit(X, Y)\n",
    "importances = forest.feature_importances_\n",
    "std = np.std([tree.feature_importances_ for tree in forest.estimators_],\n",
    "             axis=0)\n",
    "indices = np.argsort(importances)[::-1]"
   ]
  },
  {
   "cell_type": "code",
   "execution_count": 25,
   "metadata": {
    "collapsed": false
   },
   "outputs": [
    {
     "name": "stdout",
     "output_type": "stream",
     "text": [
      "Feature ranking:\n",
      "1. feature 11 (0.226759)\n",
      "2. feature 8 (0.110453)\n",
      "3. feature 12 (0.108300)\n",
      "4. feature 16 (0.061693)\n",
      "5. feature 0 (0.048103)\n",
      "6. feature 17 (0.047893)\n",
      "7. feature 9 (0.040822)\n",
      "8. feature 13 (0.040012)\n",
      "9. feature 7 (0.039855)\n",
      "10. feature 4 (0.037143)\n",
      "11. feature 15 (0.033979)\n",
      "12. feature 2 (0.030319)\n",
      "13. feature 10 (0.022210)\n",
      "14. feature 5 (0.021382)\n",
      "15. feature 14 (0.021358)\n",
      "16. feature 3 (0.020920)\n",
      "17. feature 1 (0.020902)\n",
      "18. feature 6 (0.009252)\n",
      "19. feature 21 (0.006598)\n",
      "20. feature 24 (0.006537)\n",
      "21. feature 41 (0.004572)\n",
      "22. feature 23 (0.004296)\n",
      "23. feature 22 (0.003396)\n",
      "24. feature 40 (0.003178)\n",
      "25. feature 20 (0.003097)\n",
      "26. feature 39 (0.002695)\n",
      "27. feature 38 (0.002449)\n",
      "28. feature 36 (0.002383)\n",
      "29. feature 31 (0.002287)\n",
      "30. feature 37 (0.002237)\n",
      "31. feature 27 (0.002097)\n",
      "32. feature 32 (0.001819)\n",
      "33. feature 33 (0.001778)\n",
      "34. feature 35 (0.001731)\n",
      "35. feature 28 (0.001553)\n",
      "36. feature 30 (0.001355)\n",
      "37. feature 26 (0.001317)\n",
      "38. feature 29 (0.001252)\n",
      "39. feature 34 (0.000922)\n",
      "40. feature 18 (0.000592)\n",
      "41. feature 25 (0.000505)\n",
      "42. feature 19 (0.000000)\n"
     ]
    }
   ],
   "source": [
    "# Print the feature ranking\n",
    "print(\"Feature ranking:\")\n",
    "\n",
    "for f in range(X.shape[1]):\n",
    "    print(\"%d. feature %d (%f)\" % (f + 1, indices[f], importances[indices[f]]))"
   ]
  },
  {
   "cell_type": "code",
   "execution_count": 27,
   "metadata": {
    "collapsed": false
   },
   "outputs": [],
   "source": [
    "# Build a forest with Random Forest Classifier and argsort the feature importances\n",
    "from sklearn.ensemble import RandomForestClassifier\n",
    "clf = RandomForestClassifier(n_estimators=100, max_depth=10, random_state=0)\n",
    "clf.fit(X, Y)\n",
    "importances = clf.feature_importances_\n",
    "indices = np.argsort(importances)[::-1]\n"
   ]
  },
  {
   "cell_type": "code",
   "execution_count": 28,
   "metadata": {
    "collapsed": false
   },
   "outputs": [
    {
     "name": "stdout",
     "output_type": "stream",
     "text": [
      "Feature ranking:\n",
      "1. feature 11 (0.274597)\n",
      "2. feature 8 (0.121089)\n",
      "3. feature 12 (0.114509)\n",
      "4. feature 16 (0.076915)\n",
      "5. feature 0 (0.056898)\n",
      "6. feature 17 (0.039711)\n",
      "7. feature 4 (0.035285)\n",
      "8. feature 9 (0.034029)\n",
      "9. feature 10 (0.031631)\n",
      "10. feature 7 (0.029606)\n",
      "11. feature 15 (0.026216)\n",
      "12. feature 13 (0.024054)\n",
      "13. feature 2 (0.020423)\n",
      "14. feature 1 (0.017716)\n",
      "15. feature 14 (0.017491)\n",
      "16. feature 3 (0.016786)\n",
      "17. feature 5 (0.014301)\n",
      "18. feature 41 (0.010081)\n",
      "19. feature 23 (0.008334)\n",
      "20. feature 24 (0.007154)\n",
      "21. feature 21 (0.006382)\n",
      "22. feature 6 (0.004969)\n",
      "23. feature 20 (0.001444)\n",
      "24. feature 22 (0.001329)\n",
      "25. feature 31 (0.001268)\n",
      "26. feature 38 (0.001053)\n",
      "27. feature 40 (0.000746)\n",
      "28. feature 34 (0.000659)\n",
      "29. feature 39 (0.000589)\n",
      "30. feature 33 (0.000567)\n",
      "31. feature 37 (0.000563)\n",
      "32. feature 32 (0.000536)\n",
      "33. feature 36 (0.000522)\n",
      "34. feature 35 (0.000469)\n",
      "35. feature 30 (0.000436)\n",
      "36. feature 27 (0.000374)\n",
      "37. feature 18 (0.000292)\n",
      "38. feature 25 (0.000283)\n",
      "39. feature 28 (0.000260)\n",
      "40. feature 29 (0.000235)\n",
      "41. feature 26 (0.000195)\n",
      "42. feature 19 (0.000000)\n"
     ]
    }
   ],
   "source": [
    "# Print the feature ranking\n",
    "print(\"Feature ranking:\")\n",
    "\n",
    "for f in range(X.shape[1]):\n",
    "    print(\"%d. feature %d (%f)\" % (f + 1, indices[f], importances[indices[f]]))"
   ]
  },
  {
   "cell_type": "markdown",
   "metadata": {},
   "source": [
    "Feature 11 (orbiter_to_TDS_delta) is the most important feature according to both ExtraTreesClassifier and RandomForestClassifier. \n",
    "\n",
    "Feature 8 (TDS_outasync_tf_frames) is the second most important feature according to both ExtraTreesClassifier and RandomForestClassifier. \n",
    "\n",
    "Feature 12 (TDS_to_GDS_delta) is the third most important feature according to both ExtraTreesClassifier and RandomForestClassifier.\n",
    "\n",
    "Feature 16 (actual_to_predict_begin_timedelta) is the fourth most important feature according to both ExtraTreesClassifier and RandomForestClassifier.\n",
    "\n",
    "Feature 0 (GDS_dataActual) is the fifth most important feature according to both ExtraTreesClassifier and RandomForestClassifier."
   ]
  },
  {
   "cell_type": "code",
   "execution_count": null,
   "metadata": {
    "collapsed": true
   },
   "outputs": [],
   "source": []
  }
 ],
 "metadata": {
  "anaconda-cloud": {},
  "kernelspec": {
   "display_name": "Python [default]",
   "language": "python",
   "name": "python2"
  },
  "language_info": {
   "codemirror_mode": {
    "name": "ipython",
    "version": 2
   },
   "file_extension": ".py",
   "mimetype": "text/x-python",
   "name": "python",
   "nbconvert_exporter": "python",
   "pygments_lexer": "ipython2",
   "version": "2.7.12"
  }
 },
 "nbformat": 4,
 "nbformat_minor": 1
}
